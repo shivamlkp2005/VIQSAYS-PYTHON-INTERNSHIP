{
 "cells": [
  {
   "cell_type": "markdown",
   "metadata": {},
   "source": [
    "___\n",
    "\n",
    "<a href='https://viqasys.com/wp-content/uploads/2021/07/ns1.png'><img src='https://viqasys.com/wp-content/uploads/2021/07/ns1.png'/></a>\n",
    "___\n",
    "<center><em>Content Copyright VIQASYS INNOVATIONS PVT LTD.</em></center>\n",
    "\n",
    "# Assignment 1"
   ]
  },
  {
   "cell_type": "markdown",
   "metadata": {},
   "source": [
    "# Question 1\n",
    "\n",
    "In the below elements, identify which of them are values or expressions. Values can be integers or strings, while expressions will be mathematical operators or combinations thereof.\n",
    "'hello', \n",
    "-87., ), o, lu, alu, ssion)'(Value))str\" (Value)"
   ]
  },
  {
   "cell_type": "markdown",
   "metadata": {},
   "source": [
    "* ==  Operator\n",
    "\n",
    "'hello' == value\n",
    "\n",
    "-87.8  == value\n",
    "\n",
    "- == operator\n",
    "\n",
    "/   == operator\n",
    "\n",
    "+        == operator\n",
    "\n",
    "6   == value"
   ]
  },
  {
   "cell_type": "markdown",
   "metadata": {},
   "source": [
    "String\n",
    "     * String is data type in python which has sequence of characters.\n",
    "     * it is collection of characters enclosed within single (' '), double(\" \"), and triple(\"' \"') quotes.\n",
    "     * String are often used to represent text in programming.\n",
    "     * Eg :- 'hello'\n",
    "\n",
    " variable\n",
    "     * Variable is symbolic name or an identifier which can store value or data inside it.\n",
    "     * Variable can hold various types of data, including numbers, characters, and more complex data\n",
    "       structures.\n",
    "     * Variable is symbolic name or an identifier for memory location.\n",
    "     * Eg :- Age = 18              "
   ]
  },
  {
   "cell_type": "markdown",
   "metadata": {},
   "source": [
    "## Question 3\n",
    "Describe three different data types commonly used in programming"
   ]
  },
  {
   "cell_type": "markdown",
   "metadata": {},
   "source": [
    "1. integer - Fundamental data type in python which can have whole number without any decimal point. Integer\n",
    "     can have positive or negative value.\n",
    "     Eg :- a = 6, b = -9\n",
    "\n",
    "2. Float - Fundamental data type which can store numbers with decimal point. It can also have \n",
    "     positive or negative value.\n",
    "     Eg :- 16.7, 15.7 etc.\n",
    "\n",
    "3. Boolean - Boolean data type have only two values true or false.\n",
    "    Eg :- True , False.\n",
    "                    "
   ]
  },
  {
   "cell_type": "markdown",
   "metadata": {},
   "source": [
    "## Question 4\n",
    "What is an expression made up of? What is the general purpose of expressions?\n"
   ]
  },
  {
   "cell_type": "markdown",
   "metadata": {},
   "source": [
    "==> An expression is a combination of values, variable, operators and function calls that \n",
    "     can be evaluated to produce a result.\n",
    "\n",
    "     It can represents a combination that returns a value.\n",
    "\n",
    "     Eg :- res=5*4+2\n",
    "\n",
    "Purpose of Expressions:\n",
    "\n",
    "Computation:- Expressions perform calculations, evaluate conditions, and manipulate data.\n",
    "\n",
    "Assignments:- Expressions are used to assign values to variables.\n",
    "\n",
    "Control Flow:- Expressions determine the flow of control in conditional statements.\n",
    "\n",
    "Function Arguments:- Expressions are passed as arguments to functions.\n",
    "\n",
    "Data Transformation:- Expressions transform data. "
   ]
  },
  {
   "cell_type": "markdown",
   "metadata": {},
   "source": [
    "## Question 5\n",
    "\n",
    "Explain the difference between an expression and a statement, using examples if necessary."
   ]
  },
  {
   "cell_type": "markdown",
   "metadata": {},
   "source": [
    " Expression :\n",
    " An expression is a combination of values, variables, operators, and functions that are evaluated to produce another value.\n",
    "\n",
    "  It represent a combination that returns a value.\n",
    "\n",
    " Eg :- 10*7+6.\n",
    "\n",
    "Statement:\n",
    " A statement is a complex line of code that performs a specific action.\n",
    " Unlike expression , statement do not necessarily return a value.\n",
    "\n",
    " Eg:- abc = 10\n",
    "   \n",
    "    "
   ]
  },
  {
   "cell_type": "markdown",
   "metadata": {},
   "source": [
    "## Question 6\n",
    "After running the following code, what does the variable \"bacon\" contain?\n",
    "\n",
    "bacon = 22 <br>\n",
    "\n",
    "bacon + 1"
   ]
  },
  {
   "cell_type": "markdown",
   "metadata": {},
   "source": [
    "bacon = 22\n",
    "\n",
    "bacon + 1\n",
    "\n",
    "==> 23"
   ]
  },
  {
   "cell_type": "markdown",
   "metadata": {},
   "source": [
    "## Question 7\n",
    "Determine the values of the following two terms:<br>\n",
    "'spam' + 'spamspam'<br>\n",
    "'spam' * 3\n",
    "\n"
   ]
  },
  {
   "cell_type": "markdown",
   "metadata": {},
   "source": [
    "'spam' + 'spamspam'\n",
    "\n",
    "'spam' * 3\n",
    "\n",
    "==> 'spam' + 'spamspam' == 'spamspamspam' \n",
    "\n",
    "'spam' * 3  ==  'spamspamspam'"
   ]
  },
  {
   "cell_type": "markdown",
   "metadata": {},
   "source": [
    "## Question 8\n",
    "\n",
    "Why is \"eggs\" a valid variable name while \"100\" is invalid?"
   ]
  },
  {
   "cell_type": "markdown",
   "metadata": {},
   "source": [
    "It's because variable name can not be integer. it can not start with integer."
   ]
  },
  {
   "cell_type": "markdown",
   "metadata": {},
   "source": [
    "## Question 9\n",
    "\n",
    "List three functions that can be used to obtain the integer, floating-point number, or string version of a value."
   ]
  },
  {
   "cell_type": "markdown",
   "metadata": {},
   "source": [
    "1.int() = it will convert any digit value into integer.\n",
    "\n",
    " Eg:- int('25'), int(15.5), int(True)  etc.\n",
    "\n",
    "2.float() = it will convert any digit value into floating point number which is having decimal points.\n",
    "\n",
    " Eg:- float('25'), float(15), Float(True)  etc..\n",
    "\n",
    "3.str() = it will convert value into string format.\n",
    "\n",
    " Eg:- str(25), str(15.5), str(True)  etc."
   ]
  },
  {
   "cell_type": "markdown",
   "metadata": {},
   "source": [
    "## Question 10 \n",
    "Explain why the following expression causes an error and suggest how to fix it:<br>\n",
    "'I have eaten ' + 99 + ' burritos.'\n",
    "\n"
   ]
  },
  {
   "cell_type": "markdown",
   "metadata": {},
   "source": [
    " The above expression will cause an error because in the expression two values are strings and one is integer so integer can’t be concatenated with strings. The expression will throw an error like Unsupported Operand Type.\n",
    "\n",
    "We can fix this issue by below expression\n",
    "\n",
    "'I have eaten' + ' 99 ' + ' burritos.'"
   ]
  },
  {
   "cell_type": "markdown",
   "metadata": {},
   "source": [
    "## Question 11\n",
    "Write a Python program to calculate the sum of two numbers and print the result.\n",
    "gative, or zero."
   ]
  },
  {
   "cell_type": "code",
   "execution_count": 1,
   "metadata": {},
   "outputs": [
    {
     "name": "stdout",
     "output_type": "stream",
     "text": [
      "The sum of 6 and 7 is 13\n"
     ]
    }
   ],
   "source": [
    "num1 = 6\n",
    "num2 = 7\n",
    "\n",
    "sum_result = num1 + num2\n",
    "\n",
    "print(f\"The sum of {num1} and {num2} is {sum_result}\")"
   ]
  },
  {
   "cell_type": "markdown",
   "metadata": {},
   "source": [
    "## Question 12\n",
    "Create a Python program that takes the user's name as input and prints a greeting message.\n",
    "\n"
   ]
  },
  {
   "cell_type": "code",
   "execution_count": 2,
   "metadata": {},
   "outputs": [
    {
     "name": "stdout",
     "output_type": "stream",
     "text": [
      "Hello, shivam! Welcome to our program.\n"
     ]
    }
   ],
   "source": [
    "user_name = input(\"Enter your name: \")\n",
    "\n",
    "print(f\"Hello, {user_name}! Welcome to our program.\")"
   ]
  },
  {
   "cell_type": "markdown",
   "metadata": {},
   "source": [
    "## Question 13\n",
    "Write a Python program to calculate the area of a rectangle given its length and width. (Assume length and width are provided as inputs.)\n",
    "\n"
   ]
  },
  {
   "cell_type": "code",
   "execution_count": 3,
   "metadata": {},
   "outputs": [
    {
     "name": "stdout",
     "output_type": "stream",
     "text": [
      "The area of the rectangle with length 8.0 and width 9.0 is 72.0.\n"
     ]
    }
   ],
   "source": [
    "length = float(input(\"Enter the length of the rectangle: \"))\n",
    "width = float(input(\"Enter the width of the rectangle: \"))\n",
    "\n",
    "area = length * width\n",
    "\n",
    "print(f\"The area of the rectangle with length {length} and width {width} is {area}.\")"
   ]
  },
  {
   "cell_type": "markdown",
   "metadata": {},
   "source": [
    "## Question 14\n",
    "Create a Python program that asks the user for their age and prints out a message saying whether they are a child, teenager, or adult based on their age.\n",
    "\n"
   ]
  },
  {
   "cell_type": "code",
   "execution_count": 4,
   "metadata": {},
   "outputs": [
    {
     "name": "stdout",
     "output_type": "stream",
     "text": [
      "You are an adult.\n"
     ]
    }
   ],
   "source": [
    "\n",
    "age = int(input(\"Enter your age: \"))\n",
    "\n",
    "if age < 0:\n",
    "    print(\"Invalid age. Please enter a positive value.\")\n",
    "elif age < 13:\n",
    "    print(\"You are a child.\")\n",
    "elif age < 18:\n",
    "    print(\"You are a teenager.\")\n",
    "else:\n",
    "    print(\"You are an adult.\")\n"
   ]
  },
  {
   "cell_type": "markdown",
   "metadata": {},
   "source": [
    "## Question 15\n",
    "Write a Python program to convert temperature from Celsius to Fahrenheit. (Assume Celsius temperature is provided as input.)\n",
    "\n"
   ]
  },
  {
   "cell_type": "code",
   "execution_count": 5,
   "metadata": {},
   "outputs": [
    {
     "name": "stdout",
     "output_type": "stream",
     "text": [
      "7.0°C is equal to 44.60°F\n"
     ]
    }
   ],
   "source": [
    "celsius = float(input(\"Enter the temperature in Celsius: \"))\n",
    "\n",
    "fahrenheit = (celsius * 9/5) + 32\n",
    "\n",
    "print(f\"{celsius}°C is equal to {fahrenheit:.2f}°F\")\n",
    "\n"
   ]
  },
  {
   "cell_type": "markdown",
   "metadata": {},
   "source": [
    "## Question 16\n",
    "Create a Python program that takes the radius of a circle as input and calculates its area. (Assume the value of pi is 3.14.)\n",
    "\n"
   ]
  },
  {
   "cell_type": "code",
   "execution_count": 6,
   "metadata": {},
   "outputs": [
    {
     "name": "stdout",
     "output_type": "stream",
     "text": [
      "The area of the circle with radius 7.0 is 153.86\n"
     ]
    }
   ],
   "source": [
    "radius = float(input(\"Enter the radius of the circle: \"))\n",
    "\n",
    "pi = 3.14\n",
    "area = pi * (radius ** 2)\n",
    "\n",
    "print(f\"The area of the circle with radius {radius} is {area:.2f}\")\n"
   ]
  },
  {
   "cell_type": "markdown",
   "metadata": {},
   "source": [
    "## Question 17\n",
    "Write a Python program to find the maximum of two numbers entered by the user.\n",
    "\n"
   ]
  },
  {
   "cell_type": "code",
   "execution_count": 7,
   "metadata": {},
   "outputs": [
    {
     "name": "stdout",
     "output_type": "stream",
     "text": [
      "The maximum of 5.0 and 6.0 is 6.0\n"
     ]
    }
   ],
   "source": [
    "num1 = float(input(\"Enter the first number: \"))\n",
    "num2 = float(input(\"Enter the second number: \"))\n",
    "\n",
    "maximum = max(num1, num2)\n",
    "\n",
    "print(f\"The maximum of {num1} and {num2} is {maximum}\")\n"
   ]
  },
  {
   "cell_type": "markdown",
   "metadata": {},
   "source": [
    "## Question 18\n",
    "Create a Python program that asks the user to enter two numbers and prints out their product.\n",
    "\n"
   ]
  },
  {
   "cell_type": "code",
   "execution_count": 8,
   "metadata": {},
   "outputs": [
    {
     "name": "stdout",
     "output_type": "stream",
     "text": [
      "The product of 8.0 and 10.0 is 80.0\n"
     ]
    }
   ],
   "source": [
    "num1 = float(input(\"Enter the first number: \"))\n",
    "num2 = float(input(\"Enter the second number: \"))\n",
    "\n",
    "product = num1 * num2\n",
    "\n",
    "print(f\"The product of {num1} and {num2} is {product}\")\n"
   ]
  },
  {
   "cell_type": "markdown",
   "metadata": {},
   "source": [
    "## Question 19\n",
    "Write a Python program that prompts the user to enter a number and then prints whether the number is positive, negative, or zero."
   ]
  },
  {
   "cell_type": "code",
   "execution_count": 9,
   "metadata": {},
   "outputs": [
    {
     "name": "stdout",
     "output_type": "stream",
     "text": [
      "The number is positive.\n"
     ]
    }
   ],
   "source": [
    "number = float(input(\"Enter a number: \"))\n",
    "\n",
    "if number > 0:\n",
    "    print(\"The number is positive.\")\n",
    "elif number < 0:\n",
    "    print(\"The number is negative.\")\n",
    "else:\n",
    "    print(\"The number is zero.\")\n"
   ]
  }
 ],
 "metadata": {
  "anaconda-cloud": {},
  "kernelspec": {
   "display_name": "Python 3 (ipykernel)",
   "language": "python",
   "name": "python3"
  },
  "language_info": {
   "codemirror_mode": {
    "name": "ipython",
    "version": 3
   },
   "file_extension": ".py",
   "mimetype": "text/x-python",
   "name": "python",
   "nbconvert_exporter": "python",
   "pygments_lexer": "ipython3",
   "version": "3.12.0"
  }
 },
 "nbformat": 4,
 "nbformat_minor": 4
}
